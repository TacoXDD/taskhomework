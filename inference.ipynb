{
 "cells": [
  {
   "cell_type": "code",
   "execution_count": 2,
   "metadata": {},
   "outputs": [
    {
     "name": "stdout",
     "output_type": "stream",
     "text": [
      "(10000, 6) (10000,)\n"
     ]
    }
   ],
   "source": [
    "import numpy as np\n",
    "\n",
    "test_data = np.load('test_data.npy', allow_pickle=True)\n",
    "\n",
    "#artists, duration_ms, popularity, release_date, tempo, key, liveness\n",
    "x_test, y_test = test_data[..., :-1], test_data[..., -1]\n",
    "\n",
    "print(x_test.shape, y_test.shape)"
   ]
  },
  {
   "cell_type": "code",
   "execution_count": 3,
   "metadata": {},
   "outputs": [],
   "source": [
    "import torch\n",
    "from torch import nn\n",
    "import torch.nn.functional as F\n",
    "\n",
    "class InputFeatures(nn.Module):\n",
    "    def __init__(self):\n",
    "        super().__init__()\n",
    "        self.emb = nn.Embedding(18907, 8)\n",
    "    \n",
    "    def forward(self, x):\n",
    "        result = []\n",
    "        for i in x[..., 0]:\n",
    "            result.append(self.emb(torch.LongTensor(i).cuda()).sum(0))\n",
    "        result = torch.stack(result)\n",
    "        return torch.cat([result, torch.FloatTensor(x[..., 1:].astype(np.float32)).cuda()], dim=1)\n",
    "\n",
    "class Body(nn.Module):\n",
    "    def __init__(self):\n",
    "        super().__init__()\n",
    "        self.f = nn.Sequential(\n",
    "            nn.Linear(13, 32),\n",
    "            nn.LayerNorm(32),\n",
    "            nn.GELU(),\n",
    "            nn.Linear(32, 32),\n",
    "            nn.LayerNorm(32),\n",
    "            nn.GELU(),\n",
    "            nn.Linear(32, 32),\n",
    "            nn.LayerNorm(32),\n",
    "            nn.GELU(),\n",
    "            nn.Linear(32, 1)\n",
    "        )\n",
    "    \n",
    "    def forward(self, x):\n",
    "        return self.f(x)\n",
    "    \n",
    "class Model(nn.Module):\n",
    "    def __init__(self):\n",
    "        super().__init__()\n",
    "        self.f = nn.Sequential(\n",
    "            InputFeatures(),\n",
    "            Body()\n",
    "        )\n",
    "    \n",
    "    def forward(self, x):\n",
    "        return self.f(x)"
   ]
  },
  {
   "cell_type": "code",
   "execution_count": 4,
   "metadata": {},
   "outputs": [
    {
     "data": {
      "text/plain": [
       "Model(\n",
       "  (f): Sequential(\n",
       "    (0): InputFeatures(\n",
       "      (emb): Embedding(18907, 8)\n",
       "    )\n",
       "    (1): Body(\n",
       "      (f): Sequential(\n",
       "        (0): Linear(in_features=13, out_features=32, bias=True)\n",
       "        (1): LayerNorm((32,), eps=1e-05, elementwise_affine=True)\n",
       "        (2): GELU()\n",
       "        (3): Linear(in_features=32, out_features=32, bias=True)\n",
       "        (4): LayerNorm((32,), eps=1e-05, elementwise_affine=True)\n",
       "        (5): GELU()\n",
       "        (6): Linear(in_features=32, out_features=32, bias=True)\n",
       "        (7): LayerNorm((32,), eps=1e-05, elementwise_affine=True)\n",
       "        (8): GELU()\n",
       "        (9): Linear(in_features=32, out_features=1, bias=True)\n",
       "      )\n",
       "    )\n",
       "  )\n",
       ")"
      ]
     },
     "execution_count": 4,
     "metadata": {},
     "output_type": "execute_result"
    }
   ],
   "source": [
    "model = Model().cuda()\n",
    "model.load_state_dict(torch.load('model_weights.pth'))\n",
    "model.eval()"
   ]
  },
  {
   "cell_type": "code",
   "execution_count": 5,
   "metadata": {},
   "outputs": [
    {
     "name": "stdout",
     "output_type": "stream",
     "text": [
      "Test Loss: 0.00010848376446654932\n"
     ]
    }
   ],
   "source": [
    "total_loss = 0\n",
    "batch_size = 256\n",
    "all_out = []\n",
    "\n",
    "for i in range(0, len(x_test), batch_size):\n",
    "    x_batch = x_test[i:i+batch_size]\n",
    "    y_batch = y_test[i:i+batch_size]\n",
    "\n",
    "    out = model(x_batch)\n",
    "    label = torch.FloatTensor(y_batch.astype(np.float32)).unsqueeze(-1).cuda()\n",
    "    all_out += out\n",
    "    loss = F.mse_loss(out, label)\n",
    "    total_loss += loss.item()\n",
    "\n",
    "print(f'Test Loss: {total_loss/(i+1)}')"
   ]
  },
  {
   "cell_type": "code",
   "execution_count": 52,
   "metadata": {},
   "outputs": [
    {
     "data": {
      "text/plain": [
       "Text(0, 0.5, 'Frequency')"
      ]
     },
     "execution_count": 52,
     "metadata": {},
     "output_type": "execute_result"
    },
    {
     "data": {
      "image/png": "[encoded data removed]",
      "text/plain": [
       "<Figure size 1152x288 with 1 Axes>"
      ]
     },
     "metadata": {
      "needs_background": "light"
     },
     "output_type": "display_data"
    }
   ],
   "source": [
    "import matplotlib.pyplot as plt\n",
    "\n",
    "# plt.figure(figsize=(16, 4))\n",
    "# plt.plot(all_out, 'o', markersize=2)\n",
    "\n",
    "#all_out = np.array(list(map(lambda x: x.detach().cpu(), all_out)))\n",
    "\n",
    "plt.figure(figsize=(16, 4))\n",
    "n, bins, patches = plt.hist(x=all_out, bins='auto', color='#75a1ee')\n",
    "plt.grid(axis='y', alpha=0.75)\n",
    "plt.grid(axis='x', alpha=0.75)\n",
    "\n",
    "plt.xlabel('y_pred')\n",
    "plt.ylabel('Frequency')"
   ]
  },
  {
   "cell_type": "code",
   "execution_count": 44,
   "metadata": {},
   "outputs": [
    {
     "data": {
      "text/plain": [
       "Text(0, 0.5, 'Frequency')"
      ]
     },
     "execution_count": 44,
     "metadata": {},
     "output_type": "execute_result"
    },
    {
     "data": {
      "image/png": "[encoded data removed]",
      "text/plain": [
       "<Figure size 1152x288 with 1 Axes>"
      ]
     },
     "metadata": {
      "needs_background": "light"
     },
     "output_type": "display_data"
    }
   ],
   "source": [
    "diff = all_out-y_test\n",
    "# diff = np.array(list(map(lambda x: x.detach().cpu(), diff)))\n",
    "\n",
    "plt.figure(figsize=(16, 4))\n",
    "n, bins, patches = plt.hist(x=diff, bins='auto', color='#ff6e50')\n",
    "plt.grid(axis='y', alpha=0.75)\n",
    "plt.grid(axis='x', alpha=0.75)\n",
    "\n",
    "plt.xlabel('y_pred - y_gt')\n",
    "plt.ylabel('Frequency')"
   ]
  }
 ],
 "metadata": {
  "kernelspec": {
   "display_name": "Python 3",
   "language": "python",
   "name": "python3"
  },
  "language_info": {
   "codemirror_mode": {
    "name": "ipython",
    "version": 3
   },
   "file_extension": ".py",
   "mimetype": "text/x-python",
   "name": "python",
   "nbconvert_exporter": "python",
   "pygments_lexer": "ipython3",
   "version": "3.6.10"
  }
 },
 "nbformat": 4,
 "nbformat_minor": 4
}
